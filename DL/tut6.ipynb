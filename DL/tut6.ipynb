
    "#training a neural network using tensorflow mnist datatset\n",
    "import tensorflow as tf \n",
    "from tensorflow import keras\n",
    "# A Sequential model is a linear stack of layers, suitable for simple neural networks where the output of one layer is the input to the next.\n",
    "from tensorflow.keras.models import Sequential\n",
    "\n",
    "\n"
   ]
  }
 ],
 "metadata": {
  "kernelspec": {
   "display_name": "Python 3.10 (tf-env)",
   "language": "python",
   "name": "tf-env"
  },
  "language_info": {
   "codemirror_mode": {
    "name": "ipython",
    "version": 3
   },
   "file_extension": ".py",
   "mimetype": "text/x-python",
   "name": "python",
   "nbconvert_exporter": "python",
   "pygments_lexer": "ipython3",
   "version": "3.10.0"
  }
 },
 "nbformat": 4,
 "nbformat_minor": 5
}
